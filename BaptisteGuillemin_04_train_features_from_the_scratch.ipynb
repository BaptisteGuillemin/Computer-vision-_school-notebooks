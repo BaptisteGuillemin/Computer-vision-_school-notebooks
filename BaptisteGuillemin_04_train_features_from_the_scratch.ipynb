{
  "nbformat": 4,
  "nbformat_minor": 0,
  "metadata": {
    "colab": {
      "provenance": []
    },
    "kernelspec": {
      "name": "python3",
      "display_name": "Python 3"
    },
    "language_info": {
      "name": "python"
    }
  },
  "cells": [
    {
      "cell_type": "markdown",
      "source": [
        "#Featurs Extraction for image classification ==> toward learning\n",
        "\n",
        "We will learn in this exercise how to:\n",
        "\n",
        "1.   Prepare image to be classified\n",
        "2.   Create an image classifier\n",
        "3.   Classify an image using a classifier created from the scratch\n",
        "\n",
        "\n",
        "\n",
        "Let's recognize the orinatation of bar (white color) in the following images (horizontal and vertical) (background is black)\n",
        "\n",
        "\n",
        "![picture](https://drive.google.com/uc?id=1rLaKnxTAlIzOjH6rWpYIsJIFc_v-WZbZ)  ![picture](https://drive.google.com/uc?id=1RW32gK9PvqDLO7vTp62qQsS0LKF2NvTk)\n",
        "\n",
        "\n",
        "Let’s consider these simple images to have a size of 3×3 (3 pixels of width and 3 of height).\n",
        "Let’s now focus only on one image, we will take the vertical one. The image to the computer will look like this:\n",
        "\n",
        "Vertical:\n",
        "[[ 0 255 0]\n",
        "[ 0 255 0]\n",
        "[ 0 255 0]]\n",
        "\n",
        "\n",
        "Download images: [vertical](https://drive.google.com/file/d/1AF6j9fU3j5GtQPCuZ5OyqOT_paF-eItn/view?usp=share_link)\n",
        "[Horizontal](https://drive.google.com/file/d/1EjHgADGmJT0rJa8q8TFAB4_OT2ORiicm/view?usp=share_link) \n"
      ],
      "metadata": {
        "id": "qcohXr0AwM8N"
      }
    },
    {
      "cell_type": "code",
      "source": [
        "!pip install gdown\n",
        "!gdown https://drive.google.com/uc?id=1AF6j9fU3j5GtQPCuZ5OyqOT_paF-eItn\n",
        "!gdown https://drive.google.com/uc?id=1EjHgADGmJT0rJa8q8TFAB4_OT2ORiicm"
      ],
      "metadata": {
        "colab": {
          "base_uri": "https://localhost:8080/"
        },
        "id": "GGFpEXtcAzVf",
        "outputId": "2f9661d0-c6dd-4d4a-f3dd-e354af6495fa"
      },
      "execution_count": null,
      "outputs": [
        {
          "output_type": "stream",
          "name": "stdout",
          "text": [
            "Looking in indexes: https://pypi.org/simple, https://us-python.pkg.dev/colab-wheels/public/simple/\n",
            "Requirement already satisfied: gdown in /usr/local/lib/python3.9/dist-packages (4.6.6)\n",
            "Requirement already satisfied: tqdm in /usr/local/lib/python3.9/dist-packages (from gdown) (4.65.0)\n",
            "Requirement already satisfied: beautifulsoup4 in /usr/local/lib/python3.9/dist-packages (from gdown) (4.11.2)\n",
            "Requirement already satisfied: requests[socks] in /usr/local/lib/python3.9/dist-packages (from gdown) (2.27.1)\n",
            "Requirement already satisfied: six in /usr/local/lib/python3.9/dist-packages (from gdown) (1.16.0)\n",
            "Requirement already satisfied: filelock in /usr/local/lib/python3.9/dist-packages (from gdown) (3.10.7)\n",
            "Requirement already satisfied: soupsieve>1.2 in /usr/local/lib/python3.9/dist-packages (from beautifulsoup4->gdown) (2.4)\n",
            "Requirement already satisfied: idna<4,>=2.5 in /usr/local/lib/python3.9/dist-packages (from requests[socks]->gdown) (3.4)\n",
            "Requirement already satisfied: urllib3<1.27,>=1.21.1 in /usr/local/lib/python3.9/dist-packages (from requests[socks]->gdown) (1.26.15)\n",
            "Requirement already satisfied: charset-normalizer~=2.0.0 in /usr/local/lib/python3.9/dist-packages (from requests[socks]->gdown) (2.0.12)\n",
            "Requirement already satisfied: certifi>=2017.4.17 in /usr/local/lib/python3.9/dist-packages (from requests[socks]->gdown) (2022.12.7)\n",
            "Requirement already satisfied: PySocks!=1.5.7,>=1.5.6 in /usr/local/lib/python3.9/dist-packages (from requests[socks]->gdown) (1.7.1)\n",
            "Downloading...\n",
            "From: https://drive.google.com/uc?id=1AF6j9fU3j5GtQPCuZ5OyqOT_paF-eItn\n",
            "To: /content/vertical.png\n",
            "100% 557/557 [00:00<00:00, 729kB/s]\n",
            "Downloading...\n",
            "From: https://drive.google.com/uc?id=1EjHgADGmJT0rJa8q8TFAB4_OT2ORiicm\n",
            "To: /content/horizontal.png\n",
            "100% 552/552 [00:00<00:00, 839kB/s]\n"
          ]
        }
      ]
    },
    {
      "cell_type": "code",
      "source": [
        "import cv2\n",
        "import numpy as np"
      ],
      "metadata": {
        "id": "QWOKVXcV02-T"
      },
      "execution_count": null,
      "outputs": []
    },
    {
      "cell_type": "markdown",
      "source": [
        "## Applying convolution\n",
        "\n",
        "We add a filter to convolute the image and to extract feature. Fo simplicity, a filter in this case will be an array of the same size of the image so containing 9 numbers.\n",
        "\n",
        "\n",
        "```\n",
        "filter = [1, -1, 1, -1, 1, -1, 1, -1, 1]\n",
        "```\n",
        "\n",
        "Convolution (simple):\n",
        "\n",
        "\n",
        "```\n",
        "convolution = sum(img_flattened * filter)\n",
        "\n",
        "```\n",
        "Perform the steps:\n",
        "\n",
        "\n",
        "1.   Read \"horisontal.png\"\n",
        "\n",
        "2.   Normalize it\n",
        "3. Flatten the image\n",
        "4. Define the filter matrix\n",
        "5. Convlute the image using the filter\n",
        "6. Print the result of convolution\n",
        "7. read a new image \"vertical.png\" and repeat the steps from 2 to 6\n",
        "8. determine a condition that distinguish betwen vertical and horizontal features\n",
        "\n",
        "\n",
        "\n",
        "\n",
        "\n"
      ],
      "metadata": {
        "id": "NoLxmlyY4SEH"
      }
    },
    {
      "cell_type": "code",
      "source": [
        "img = cv2.imread('/content/horizontal.png', cv2.IMREAD_GRAYSCALE)\n",
        "print(img)\n",
        "\n",
        "# 1) Simplify image by dividing 255\n",
        "img = img / 255\n",
        "\n",
        "# 2) Flatten the image\n",
        "img_flattened = img.flatten()\n",
        "\n",
        "# 3) Filter\n",
        "filter = [1, -1, 1, \n",
        "          1, -1, 1, \n",
        "          1, -1, 1]\n",
        "\n",
        "# 4) Multiply filter * flattened image\n",
        "convolution = img_flattened * filter\n",
        "\n",
        "# 5) Sum\n",
        "sum_convolution = sum(convolution)\n",
        "print(sum_convolution)\n",
        "# 6) Condition\n",
        "if sum_convolution == 1:\n",
        "    print(\"Horizontal\")\n",
        "else:\n",
        "    print(\"Vertical\")"
      ],
      "metadata": {
        "colab": {
          "base_uri": "https://localhost:8080/"
        },
        "id": "3xm1A7qH2tF0",
        "outputId": "40eac491-31ec-47a7-fd77-2206aaa51d76"
      },
      "execution_count": null,
      "outputs": [
        {
          "output_type": "stream",
          "name": "stdout",
          "text": [
            "[[  0   0   0]\n",
            " [255 255 255]\n",
            " [  0   0   0]]\n",
            "1.0\n",
            "Horizontal\n"
          ]
        }
      ]
    },
    {
      "cell_type": "markdown",
      "source": [
        "## Put the process in a function for tests\n",
        "Define a function to do the process (input: image, output vertical or horizontal)\n"
      ],
      "metadata": {
        "id": "dw7f6zgH6bmt"
      }
    },
    {
      "cell_type": "code",
      "source": [
        "## Put the process in a function\n",
        "\n",
        "def classify_image(img):\n",
        "    # 1) Simplify image by dividing 255\n",
        "    img = img / 255\n",
        "\n",
        "    # 2) Flatten the image\n",
        "    img_flattened = img.flatten()\n",
        "\n",
        "    # 3) Filter\n",
        "    filter = [1, -1, 1, 1, -1, 1, 1, -1, 1]\n",
        "\n",
        "    # 4) Multiply filter * flattened image\n",
        "    convolution = img_flattened * filter\n",
        "\n",
        "    # 5) Sum\n",
        "    sum_convolution = sum(convolution)\n",
        "\n",
        "    # 6) Condition\n",
        "    if sum_convolution == 1:\n",
        "        return \"Horizontal\"\n",
        "    else:\n",
        "        return \"Vertical\""
      ],
      "metadata": {
        "id": "QE7Ko-iQ6OGR"
      },
      "execution_count": null,
      "outputs": []
    },
    {
      "cell_type": "markdown",
      "source": [
        "## Testing your classifier \n",
        "We are going to test classifier with some new images of similar features.\n",
        "\n",
        "The idea would be that in only one line we can call the classifier and it is going to tell us whether the image is a vertical or a horizontal line.\n",
        "\n",
        "\n",
        "---\n",
        "\n",
        "\n",
        "\n",
        "\n",
        "![picture](https://drive.google.com/uc?id=14_EzE6JI5ZIGNZT8X3uEBSkaSmcLqUr3) \n",
        "_________________\n",
        " ![picture](https://drive.google.com/uc?id=1J8ij0MPJZ1KekISjOPl1kWg-uMPMLp3J)\n",
        "____________________________________________________________________\n",
        "\n",
        "\n",
        "Download new images:  [bottom_Horizontal](https://drive.google.com/file/d/1hcacenV2IkOjANBZ3mLdklGYT_L6mwTB/view?usp=share_link), [left_vertical](https://drive.google.com/file/d/1D2tfKgTHGjLqvly0F6Qhm6B775gzNjX8/view?usp=share_link) , \n"
      ],
      "metadata": {
        "id": "1-sJXH5Z6lcV"
      }
    },
    {
      "cell_type": "code",
      "source": [
        "img = cv2.imread(\"vertical.png\", cv2.IMREAD_GRAYSCALE)\n",
        "img2 = cv2.imread(\"horizontal.png\", cv2.IMREAD_GRAYSCALE)\n",
        "img3 = read \"bottom_horizontal.png\"\n",
        "img4 = read(\"left_vertical.png\"\n",
        "\n",
        "\n",
        "\n",
        "result = classify_image(img3)\n",
        "print(result)"
      ],
      "metadata": {
        "colab": {
          "base_uri": "https://localhost:8080/"
        },
        "id": "D6z3EX89-7XA",
        "outputId": "1114acbd-81ad-4d17-b131-e68f083c6890"
      },
      "execution_count": null,
      "outputs": [
        {
          "output_type": "stream",
          "name": "stdout",
          "text": [
            "Horizontal\n"
          ]
        }
      ]
    },
    {
      "cell_type": "markdown",
      "source": [
        "This is done by a pre-defined filter, that is able to detect the horizontal and vertical lines. \n",
        "\n",
        "The **drawback** of that classifier was that we needed to create manually the filter to classify the images. So if we wanted to classify different type of images, we would need again to create manually a new filter.\n",
        "\n"
      ],
      "metadata": {
        "id": "lurkdpTmACZW"
      }
    },
    {
      "cell_type": "markdown",
      "source": [
        "# Classifier of Various Images \n",
        "To tackle the drawback of previous classifier, we have to let the computer do the task of defining the filter automatically, so that it will find a filter for different images of horizontal and vertical lines, bot not necessarily identical "
      ],
      "metadata": {
        "id": "sddWzJmwAuNv"
      }
    },
    {
      "cell_type": "markdown",
      "source": [
        "## Process the image within a function \n",
        "First of all, we create a function to preprocess the image before applying the classifier, so that instead of dividing each single image by 255 and flattening it, we will get in return this operation aleady executed by the function.\n",
        "\n",
        "The function preprocess_img will take the image path and give in return the image ready to bre processed by the classifier."
      ],
      "metadata": {
        "id": "hU4pomJ3BkTX"
      }
    },
    {
      "cell_type": "code",
      "source": [
        "def preprocess_img(path_img):\n",
        "  # read the image\n",
        "    \n",
        "\n",
        "    # Normalize the image\n",
        "    \n",
        "\n",
        "    # Flatten the image\n",
        "    \n",
        "    return flattened_image"
      ],
      "metadata": {
        "id": "bAsj8lb2Bvpx"
      },
      "execution_count": null,
      "outputs": []
    },
    {
      "cell_type": "code",
      "source": [
        "flattened_vertical = preprocess_img(\"vertical.png\")\n",
        "flattened_horizontal = preprocess_img(\"horizontal.png\")"
      ],
      "metadata": {
        "id": "kKMriVs1By1m"
      },
      "execution_count": null,
      "outputs": []
    },
    {
      "cell_type": "markdown",
      "source": [
        "## Identify the filter \n",
        "To find the proper filter, it must give a unique indicator for each image of similar features ( different value for different image)\n",
        "If it would return the same result, would be a bad filter because no matter if you give a vertical line or a horizontal line you get the same result and there is no distinction.\n",
        "\n",
        "### How do we create the filter?\n",
        "We create the filter putting random numbers from -1 to 1. There is a numpy function that does that: np.random.randint().\n",
        "The size must be the same size of the images we want to multiply the filter with, so in this case is 9 numbers.\n",
        "\n",
        "`filter_images = np.random.randint(-1, 2, size=9)`\n",
        "\n",
        "Convolution operation (multiply the image with the filter and sum the result) for both images is to implemented\n",
        "\n",
        "Then, the result of the convolution for both images will be compared. If the result of the two images is different, we can say it’s a good filter and we can use that one. Otherwise it’s a bad filter and we want to discard it and continue to find the proper one.\n",
        "\n",
        "We will put everything into a loop, and keep looping until we find a good filter.\n",
        "\n"
      ],
      "metadata": {
        "id": "uN1zEzYyB8Ma"
      }
    },
    {
      "cell_type": "markdown",
      "source": [
        "###Exercise:\n",
        "Consider both input flatten vertical and horizontal, within a loop, generate a filter randomly, and convolute the image and check if the results of two convolutions are different or not.\n",
        "Once you find the filter that make the convolutions different, consider it as the good and exit. It is interesting to print the number of attempts "
      ],
      "metadata": {
        "id": "s04DFDVNUZo5"
      }
    },
    {
      "cell_type": "code",
      "source": [
        "count = 0\n",
        "while True:\n",
        "    # here your code \n"
      ],
      "metadata": {
        "colab": {
          "base_uri": "https://localhost:8080/"
        },
        "id": "4CK7KtjOFQrc",
        "outputId": "8119d629-c331-4aaa-c498-865e76cac6c7"
      },
      "execution_count": null,
      "outputs": [
        {
          "output_type": "stream",
          "name": "stdout",
          "text": [
            "Good filter\n",
            "Filter:  [-1 -1  1 -1  0 -1  0  1  0]\n",
            "0.0\n",
            "-2.0\n",
            "Attempts:  1\n"
          ]
        }
      ]
    },
    {
      "cell_type": "markdown",
      "source": [
        "## Validate filter on more images\n",
        "\n",
        "If we were able to detect  easily and quickly a filter that would work having just one image per class, one image for the “Vertical” and one for the “Horizontal”, \n",
        "\n",
        "**So how would this method perform if we had more images per class?**\n",
        "\n",
        "\n",
        "We’re going to do that right now, but to make the detection more challenging, we will try this time with more difficult images of size 5×5, as shown in the following\n",
        "\n",
        "\n",
        "download them from [here:](https://drive.google.com/file/d/1zKv6wwlI_PGrgicK7DxFT6R9VvbdwW86/view?usp=share_link) "
      ],
      "metadata": {
        "id": "sKylk0EyfZQX"
      }
    },
    {
      "cell_type": "markdown",
      "source": [
        "\n",
        "\n",
        "**Squares:**\n",
        "\n",
        "![picture](https://drive.google.com/uc?id=1tPXMD28FwrsRby00npDK9F6BTdsRzc8r) \n",
        "_________________\n",
        "\n",
        "\n",
        " **Crosses:**\n",
        "\n",
        " ![picture](https://drive.google.com/uc?id=1wcgoMNNu4rwZ9YAiGqENRBF_SOXk4brb)\n",
        "____________________________________________________________________\n",
        "\n",
        "\n",
        "Now, the task gets more challenging.\n",
        "We don’t need to load just two images, but more images and the condition after the convolution must satisfy more images for the same class.\n",
        "\n",
        "Let’s start by taking the path of all the 10 images, so we can easily load them. For the squares I have 5 images and their name starts with square, so I take all the images with square on their name. Same operation I do for the crosses.\n",
        "\n",
        "```\n",
        "squares = glob.glob(\"square*.png\")\n",
        "crosses = glob.glob(\"cross*.png\")\n",
        "```\n",
        "\n",
        "We then need to run a while loop. We need the while loop to keep looking for a filter until we get a good one. This time we also add a switch button because it won’t be so easy to break the loop as we did on the previous code with just the break operator.\n",
        "\n",
        "Inside the loop we generate a random filter.\n",
        "\n",
        "Then we load the 5 squares and 5 crosses and we make the convolution for each single image.\n",
        "\n",
        "In order to consider the filter a good filter, we set two requirements:\n",
        "- all the squares need to be bigger or equal to 0, so if the result is different we break the for loop and we go back to the while loop and start everything until all the 5 squares satisfy the condition to be greater or equal to 0.\n",
        "\n",
        "- The same is for the crosses, if they’re not less than 0, we break the for loop.\n",
        "\n",
        "**How do we know when all the 5 squares and 5 crosses satisfy the requirements?**\n",
        "\n",
        "We know it if we’re able to get through all the images without breaking the loop. So we set the final condition, if count is 4 it means we were able to loop through all the 5 images, so the filter is good.\n",
        "At this point we set good_filter to True and the while loop will stop running.\n",
        "\n"
      ],
      "metadata": {
        "id": "CWVTfnnINmUf"
      }
    },
    {
      "cell_type": "code",
      "source": [
        "import glob\n",
        "\n",
        "\n",
        "\n",
        "print(\"Filter:\", filter_images)\n",
        "print(\"Attempts:\", count)\n"
      ],
      "metadata": {
        "colab": {
          "base_uri": "https://localhost:8080/"
        },
        "id": "NnE5UAx3g9dy",
        "outputId": "f4d1ba71-1ca4-4220-df9a-66b6afa39b26"
      },
      "execution_count": null,
      "outputs": [
        {
          "output_type": "stream",
          "name": "stdout",
          "text": [
            "['square_br.png', 'square_center.png', 'square_around.png', 'square_centerup.png', 'square_lu.png']\n",
            "['cross_ur.png', 'cross_cr.png', 'cross_centre.png', 'cross_ul.png', 'cross_bl.png']\n",
            "Filter: [ 0  1  1  1 -1  0  1 -1  0  0  0 -1  0  1 -1 -1 -1  1  0  0  0  1 -1 -1\n",
            "  1]\n",
            "Attempts: 732498\n"
          ]
        }
      ]
    },
    {
      "cell_type": "markdown",
      "source": [
        "## Test the found filter with a new image\n",
        "\n",
        "Once we find the filter, we can be sure that tha image classifier will work with the 5 images we used to find the filter, as it was tested exactly for that.\n",
        "\n",
        "Let’s adjust a bit the classifier using the filter you’ve just generated. You might have a different filter than the one I have, so you can use the one you got if you prefer.\n",
        "\n",
        "The filter this time is 25 numbers, as the images are of size 5×5 (which is a total of 25 pixels).\n",
        "\n",
        "But what if we try it with some image that we never used before?"
      ],
      "metadata": {
        "id": "U6RK7vSwz1gI"
      }
    },
    {
      "cell_type": "code",
      "source": [
        "#filter = [ 1,  1, -1,  1,  0,  0, -1,  0,  1, -1,  0,  0, -1,  0, -1, -1, -1,  1,  0,  1,  1, -1, -1,  0, 1]\n",
        "\n",
        "filter =  [ 0,  1 , 1,  1, -1,  0,  1, -1,  0,  0,  0 ,-1,  0,  1, -1, -1, -1,  1,  0,  0,  0,  1, -1, -1,1]\n",
        "def classify_image(img, filter):\n",
        "    "
      ],
      "metadata": {
        "id": "ZqvEvwUTz0-8"
      },
      "execution_count": null,
      "outputs": []
    },
    {
      "cell_type": "code",
      "source": [
        "img = cv2.imread(\"Square_test.png\", cv2.IMREAD_GRAYSCALE)\n",
        "\n",
        "\n",
        "result = classify_image(img,filter)\n",
        "print(result)\n",
        "\n"
      ],
      "metadata": {
        "colab": {
          "base_uri": "https://localhost:8080/"
        },
        "id": "huQVokXe1ADe",
        "outputId": "ce619f01-b0bd-40de-fdd0-d4c0bec85bd5"
      },
      "execution_count": null,
      "outputs": [
        {
          "output_type": "stream",
          "name": "stdout",
          "text": [
            "Square\n"
          ]
        }
      ]
    },
    {
      "cell_type": "code",
      "source": [
        "from matplotlib import pyplot as plt\n",
        "plt.figure(figsize=(20, 9))\n",
        "plt.imshow(cv2.resize(img, (500, 500), interpolation=0), 'gray'),plt.show()"
      ],
      "metadata": {
        "colab": {
          "base_uri": "https://localhost:8080/",
          "height": 559
        },
        "id": "3iBMLr4jFrab",
        "outputId": "58792f41-5185-42d6-c0a6-c73aa38d842b"
      },
      "execution_count": null,
      "outputs": [
        {
          "output_type": "display_data",
          "data": {
            "text/plain": [
              "<Figure size 1440x648 with 1 Axes>"
            ],
            "image/png": "[encoded data removed]"
          },
          "metadata": {
            "needs_background": "light"
          }
        },
        {
          "output_type": "execute_result",
          "data": {
            "text/plain": [
              "(<matplotlib.image.AxesImage at 0x7fe7c0276340>, None)"
            ]
          },
          "metadata": {},
          "execution_count": 39
        }
      ]
    },
    {
      "cell_type": "markdown",
      "source": [
        "Credits: [Sergio Canu](https://pysource.com/)"
      ],
      "metadata": {
        "id": "nUJRgzjg2gBa"
      }
    }
  ]
}